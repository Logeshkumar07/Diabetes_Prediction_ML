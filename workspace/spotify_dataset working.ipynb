{
 "cells": [
  {
   "cell_type": "code",
   "execution_count": 1,
   "id": "4ac3c440",
   "metadata": {},
   "outputs": [],
   "source": [
    "import pandas as pd\n",
    "import numpy as np\n",
    "import seaborn as sb\n"
   ]
  },
  {
   "cell_type": "code",
   "execution_count": 4,
   "id": "99c7ca34",
   "metadata": {},
   "outputs": [],
   "source": [
    "df=pd.read_csv('spotify_weekly_chart.csv')"
   ]
  },
  {
   "cell_type": "code",
   "execution_count": 5,
   "id": "e0cb8091",
   "metadata": {},
   "outputs": [
    {
     "data": {
      "text/html": [
       "<div>\n",
       "<style scoped>\n",
       "    .dataframe tbody tr th:only-of-type {\n",
       "        vertical-align: middle;\n",
       "    }\n",
       "\n",
       "    .dataframe tbody tr th {\n",
       "        vertical-align: top;\n",
       "    }\n",
       "\n",
       "    .dataframe thead th {\n",
       "        text-align: right;\n",
       "    }\n",
       "</style>\n",
       "<table border=\"1\" class=\"dataframe\">\n",
       "  <thead>\n",
       "    <tr style=\"text-align: right;\">\n",
       "      <th></th>\n",
       "      <th>Pos</th>\n",
       "      <th>P+</th>\n",
       "      <th>Artist</th>\n",
       "      <th>Title</th>\n",
       "      <th>Wks</th>\n",
       "      <th>Pk</th>\n",
       "      <th>(x?)</th>\n",
       "      <th>Streams</th>\n",
       "      <th>Streams+</th>\n",
       "      <th>Total</th>\n",
       "    </tr>\n",
       "  </thead>\n",
       "  <tbody>\n",
       "    <tr>\n",
       "      <th>0</th>\n",
       "      <td>1</td>\n",
       "      <td>+4</td>\n",
       "      <td>SZA</td>\n",
       "      <td>Kill Bill</td>\n",
       "      <td>4</td>\n",
       "      <td>1</td>\n",
       "      <td>(x1)</td>\n",
       "      <td>41474366</td>\n",
       "      <td>1578141.0</td>\n",
       "      <td>160755788</td>\n",
       "    </tr>\n",
       "    <tr>\n",
       "      <th>1</th>\n",
       "      <td>2</td>\n",
       "      <td>+9</td>\n",
       "      <td>Sam Smith</td>\n",
       "      <td>Unholy</td>\n",
       "      <td>15</td>\n",
       "      <td>1</td>\n",
       "      <td>(x7)</td>\n",
       "      <td>33132175</td>\n",
       "      <td>2872164.0</td>\n",
       "      <td>642800599</td>\n",
       "    </tr>\n",
       "    <tr>\n",
       "      <th>2</th>\n",
       "      <td>3</td>\n",
       "      <td>+12</td>\n",
       "      <td>Harry Styles</td>\n",
       "      <td>As It Was</td>\n",
       "      <td>40</td>\n",
       "      <td>1</td>\n",
       "      <td>(x11)</td>\n",
       "      <td>30998084</td>\n",
       "      <td>3982809.0</td>\n",
       "      <td>1719435686</td>\n",
       "    </tr>\n",
       "    <tr>\n",
       "      <th>3</th>\n",
       "      <td>4</td>\n",
       "      <td>+16</td>\n",
       "      <td>David Guetta</td>\n",
       "      <td>I'm Good (Blue)</td>\n",
       "      <td>19</td>\n",
       "      <td>2</td>\n",
       "      <td>(x4)</td>\n",
       "      <td>30704256</td>\n",
       "      <td>7144547.0</td>\n",
       "      <td>541637842</td>\n",
       "    </tr>\n",
       "    <tr>\n",
       "      <th>4</th>\n",
       "      <td>5</td>\n",
       "      <td>+8</td>\n",
       "      <td>Metro Boomin</td>\n",
       "      <td>Creepin'</td>\n",
       "      <td>5</td>\n",
       "      <td>3</td>\n",
       "      <td>(x1)</td>\n",
       "      <td>28092232</td>\n",
       "      <td>381484.0</td>\n",
       "      <td>153469486</td>\n",
       "    </tr>\n",
       "    <tr>\n",
       "      <th>5</th>\n",
       "      <td>6</td>\n",
       "      <td>+10</td>\n",
       "      <td>Manuel Turizo</td>\n",
       "      <td>La Bachata</td>\n",
       "      <td>27</td>\n",
       "      <td>4</td>\n",
       "      <td>NaN</td>\n",
       "      <td>27357095</td>\n",
       "      <td>727736.0</td>\n",
       "      <td>667941457</td>\n",
       "    </tr>\n",
       "    <tr>\n",
       "      <th>6</th>\n",
       "      <td>7</td>\n",
       "      <td>+16</td>\n",
       "      <td>Taylor Swift</td>\n",
       "      <td>Anti</td>\n",
       "      <td>11</td>\n",
       "      <td>1</td>\n",
       "      <td>(x3)</td>\n",
       "      <td>25446860</td>\n",
       "      <td>2514411.0</td>\n",
       "      <td>433960245</td>\n",
       "    </tr>\n",
       "    <tr>\n",
       "      <th>7</th>\n",
       "      <td>8</td>\n",
       "      <td>+13</td>\n",
       "      <td>Bizarrap</td>\n",
       "      <td>Quevedo: Bzrp Music Sessions, Vol. 52</td>\n",
       "      <td>26</td>\n",
       "      <td>1</td>\n",
       "      <td>(x9)</td>\n",
       "      <td>24450866</td>\n",
       "      <td>1064324.0</td>\n",
       "      <td>893857453</td>\n",
       "    </tr>\n",
       "    <tr>\n",
       "      <th>8</th>\n",
       "      <td>9</td>\n",
       "      <td>+10</td>\n",
       "      <td>Arcángel</td>\n",
       "      <td>La Jumpa</td>\n",
       "      <td>5</td>\n",
       "      <td>9</td>\n",
       "      <td>NaN</td>\n",
       "      <td>23899303</td>\n",
       "      <td>274370.0</td>\n",
       "      <td>122866197</td>\n",
       "    </tr>\n",
       "    <tr>\n",
       "      <th>9</th>\n",
       "      <td>10</td>\n",
       "      <td>+20</td>\n",
       "      <td>Bad Bunny</td>\n",
       "      <td>Me Porto Bonito</td>\n",
       "      <td>35</td>\n",
       "      <td>2</td>\n",
       "      <td>(x1)</td>\n",
       "      <td>20585192</td>\n",
       "      <td>587528.0</td>\n",
       "      <td>1062970407</td>\n",
       "    </tr>\n",
       "  </tbody>\n",
       "</table>\n",
       "</div>"
      ],
      "text/plain": [
       "   Pos   P+          Artist                                  Title  Wks  Pk  \\\n",
       "0    1   +4            SZA                               Kill Bill    4   1   \n",
       "1    2   +9      Sam Smith                                  Unholy   15   1   \n",
       "2    3  +12   Harry Styles                               As It Was   40   1   \n",
       "3    4  +16   David Guetta                         I'm Good (Blue)   19   2   \n",
       "4    5   +8   Metro Boomin                                Creepin'    5   3   \n",
       "5    6  +10  Manuel Turizo                              La Bachata   27   4   \n",
       "6    7  +16   Taylor Swift                                    Anti   11   1   \n",
       "7    8  +13       Bizarrap   Quevedo: Bzrp Music Sessions, Vol. 52   26   1   \n",
       "8    9  +10       Arcángel                                La Jumpa    5   9   \n",
       "9   10  +20      Bad Bunny                         Me Porto Bonito   35   2   \n",
       "\n",
       "    (x?)   Streams   Streams+       Total  \n",
       "0   (x1)  41474366  1578141.0   160755788  \n",
       "1   (x7)  33132175  2872164.0   642800599  \n",
       "2  (x11)  30998084  3982809.0  1719435686  \n",
       "3   (x4)  30704256  7144547.0   541637842  \n",
       "4   (x1)  28092232   381484.0   153469486  \n",
       "5    NaN  27357095   727736.0   667941457  \n",
       "6   (x3)  25446860  2514411.0   433960245  \n",
       "7   (x9)  24450866  1064324.0   893857453  \n",
       "8    NaN  23899303   274370.0   122866197  \n",
       "9   (x1)  20585192   587528.0  1062970407  "
      ]
     },
     "execution_count": 5,
     "metadata": {},
     "output_type": "execute_result"
    }
   ],
   "source": [
    "df.head(10)"
   ]
  },
  {
   "cell_type": "code",
   "execution_count": 6,
   "id": "b6299791",
   "metadata": {},
   "outputs": [
    {
     "data": {
      "text/plain": [
       "Pos           0\n",
       "P+            0\n",
       "Artist        0\n",
       "Title         0\n",
       "Wks           0\n",
       "Pk            0\n",
       "(x?)        163\n",
       "Streams       0\n",
       "Streams+     71\n",
       "Total         0\n",
       "dtype: int64"
      ]
     },
     "execution_count": 6,
     "metadata": {},
     "output_type": "execute_result"
    }
   ],
   "source": [
    "df.isnull().sum()"
   ]
  },
  {
   "cell_type": "code",
   "execution_count": 7,
   "id": "a8b48198",
   "metadata": {},
   "outputs": [
    {
     "data": {
      "text/plain": [
       "Pos         False\n",
       "P+          False\n",
       "Artist      False\n",
       "Title       False\n",
       "Wks         False\n",
       "Pk          False\n",
       "(x?)         True\n",
       "Streams     False\n",
       "Streams+     True\n",
       "Total       False\n",
       "dtype: bool"
      ]
     },
     "execution_count": 7,
     "metadata": {},
     "output_type": "execute_result"
    }
   ],
   "source": [
    "df.isnull().any()"
   ]
  },
  {
   "cell_type": "code",
   "execution_count": 8,
   "id": "12af4551",
   "metadata": {},
   "outputs": [],
   "source": [
    "df.dropna(inplace=True)"
   ]
  },
  {
   "cell_type": "code",
   "execution_count": 10,
   "id": "a6fad131",
   "metadata": {},
   "outputs": [
    {
     "data": {
      "text/plain": [
       "Pos         False\n",
       "P+          False\n",
       "Artist      False\n",
       "Title       False\n",
       "Wks         False\n",
       "Pk          False\n",
       "(x?)        False\n",
       "Streams     False\n",
       "Streams+    False\n",
       "Total       False\n",
       "dtype: bool"
      ]
     },
     "execution_count": 10,
     "metadata": {},
     "output_type": "execute_result"
    }
   ],
   "source": [
    "df.isnull().any()"
   ]
  },
  {
   "cell_type": "code",
   "execution_count": null,
   "id": "a885c0a6",
   "metadata": {},
   "outputs": [],
   "source": []
  }
 ],
 "metadata": {
  "kernelspec": {
   "display_name": "Python 3 (ipykernel)",
   "language": "python",
   "name": "python3"
  },
  "language_info": {
   "codemirror_mode": {
    "name": "ipython",
    "version": 3
   },
   "file_extension": ".py",
   "mimetype": "text/x-python",
   "name": "python",
   "nbconvert_exporter": "python",
   "pygments_lexer": "ipython3",
   "version": "3.11.0"
  }
 },
 "nbformat": 4,
 "nbformat_minor": 5
}
